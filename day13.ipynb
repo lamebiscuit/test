{
 "cells": [
  {
   "cell_type": "code",
   "execution_count": 70,
   "metadata": {},
   "outputs": [],
   "source": [
    "from itertools import permutations"
   ]
  },
  {
   "cell_type": "code",
   "execution_count": 71,
   "metadata": {},
   "outputs": [],
   "source": [
    "#skapa uppslagstabell för värdena\n",
    "\n",
    "with open('values.txt', 'r') as f:\n",
    "    lines = [line.rstrip() for line in f]\n",
    "\n",
    "valueDict = {}\n",
    "\n",
    "for line in lines:\n",
    "    line = line.split()\n",
    "    origin, destination, change = line[0], line[len(line) - 1].strip('.'), int(line[3])\n",
    "    if line[2] == \"lose\":\n",
    "        change *= -1\n",
    "    valueDict[(origin, destination)] = change"
   ]
  },
  {
   "cell_type": "code",
   "execution_count": 72,
   "metadata": {},
   "outputs": [
    {
     "name": "stdout",
     "output_type": "stream",
     "text": [
      "combinations: 40320\n",
      "highest value possible: 733\n"
     ]
    }
   ],
   "source": [
    "#skapa alla bordspositioner och summera deras kombinationsvärde\n",
    "\n",
    "names = [\"Alice\", \"Bob\", \"Carol\", \"David\", \"Eric\", \"Frank\", \"George\", \"Mallory\"]\n",
    "\n",
    "permutationsList = list(permutations(names, 8))\n",
    "\n",
    "print(f\"combinations: {len(permutationsList)}\")\n",
    "testList = permutationsList[0:1]\n",
    "\n",
    "highestSoFar = 0\n",
    "def Summerizer(inputList):\n",
    "    runningSum = 0\n",
    "    for keyNames in inputList:\n",
    "        runningSum += valueDict[keyNames]\n",
    "    return runningSum\n",
    "\n",
    "\n",
    "#för tester ersätt nedan med testList\n",
    "for combi in permutationsList:\n",
    "\n",
    "    #listorna\n",
    "    forwards = list(zip(combi, combi[1:] + combi[:1]))\n",
    "    backwards = list(reversed([(forward[1], forward[0]) for forward in forwards]))\n",
    "    mid = [(combi[0], combi[-1])]\n",
    "    \n",
    "    #värdena:\n",
    "    totalValue = 0\n",
    "    forwardsValue = Summerizer(forwards)\n",
    "    backwardsValue = Summerizer(backwards)\n",
    "    totalValue = forwardsValue + backwardsValue\n",
    "    \n",
    "    if totalValue > highestSoFar:\n",
    "        highestSoFar = totalValue\n",
    "\n",
    "print(f\"highest value possible: {highestSoFar}\")"
   ]
  }
 ],
 "metadata": {
  "kernelspec": {
   "display_name": "Python 3",
   "language": "python",
   "name": "python3"
  },
  "language_info": {
   "codemirror_mode": {
    "name": "ipython",
    "version": 3
   },
   "file_extension": ".py",
   "mimetype": "text/x-python",
   "name": "python",
   "nbconvert_exporter": "python",
   "pygments_lexer": "ipython3",
   "version": "3.10.4"
  },
  "orig_nbformat": 4,
  "vscode": {
   "interpreter": {
    "hash": "7d3132c63595c5bd9835a7d3d4e82d2178644ed42d28c98d306a1f36334182b0"
   }
  }
 },
 "nbformat": 4,
 "nbformat_minor": 2
}
